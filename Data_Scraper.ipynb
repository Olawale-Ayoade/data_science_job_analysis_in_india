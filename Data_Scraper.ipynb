{
 "cells": [
  {
   "cell_type": "markdown",
   "id": "d5d28996-4bd8-4b35-8ac2-c65ab128787e",
   "metadata": {},
   "source": [
    "# Data Science Job Market Analysis \n",
    "\n",
    "## Part 1: Web Scraping using Selenium"
   ]
  },
  {
   "cell_type": "code",
   "execution_count": 4,
   "id": "6daeab30-2e50-4512-81a4-1bbda6aa3501",
   "metadata": {},
   "outputs": [],
   "source": [
    "#--------------------------\n",
    "# 1. Import library\n",
    "#--------------------------\n",
    "\n",
    "import time\n",
    "from selenium import webdriver\n",
    "import pandas as pd\n",
    "from selenium.webdriver.common.by import By\n",
    "from selenium.webdriver.support.ui import WebDriverWait\n",
    "from selenium.webdriver.support import expected_conditions as EC\n",
    "import csv"
   ]
  },
  {
   "cell_type": "code",
   "execution_count": 5,
   "id": "81cd5dfc-e7b5-49f9-b98e-33f1d7ea191d",
   "metadata": {},
   "outputs": [],
   "source": [
    "# In the case of \"ModuleNotFoundError: No module named 'selenium'\" \n",
    "# Uncomment the pip install below\n",
    "\n",
    "#!pip install selenium"
   ]
  },
  {
   "cell_type": "markdown",
   "id": "f66d8d2c-4702-4bb8-9b9f-0d1925f54d09",
   "metadata": {},
   "source": [
    "## DIY: Using Selenium\n",
    "### 1. Open the website in your (Google Chrome) browser\n",
    "\n",
    "For this project, I am using: \n",
    "https://www.naukri.com/data-scientist-jobs-1\n",
    "\n",
    "### 2. Right-Click on the element you want to scrape\n",
    "For example, if you wan to get the job title or the company name:\n",
    "\n",
    "Right-Click the job title → Click \"Inspect\"\n",
    "\n",
    "Your browser's Developer Tools (DevTools) will open, and the corresponding HTML element will be highlighted.\n",
    "\n",
    "### 3. Identify the HTML Tag and Class/ID\n",
    "\n",
    "For example: \n",
    "\n",
    "```bash\n",
    "<div class=\"cust-job-tuple\">\n",
    "  <a class=\"title\" href=\"...\">Data Scientist</a>\n",
    "  <a class=\"comp-name\">ABC Corp</a>\n",
    "  <span class=\"exp\">\n",
    "    <span class=\"expwdth\">2-5 Yrs</span>\n",
    "  </span>\n",
    "```\n",
    "\n",
    "From this structure, you figure out the correct CSS Selectors:\n",
    "\n",
    "- Job card wrapper -->\tdiv.cust-job-tuple\n",
    "\n",
    "- Role/title\t-->  a.title\n",
    "\n",
    "- Company\t-->  a.comp-name\n",
    "\n",
    "- Experience\t-->  span.exp span.expwdth\n",
    "\n",
    "- Location\t-->  span.loc span.locWdth"
   ]
  },
  {
   "cell_type": "code",
   "execution_count": 6,
   "id": "cf24ea19-12ad-4d10-9c35-60ac56c41a56",
   "metadata": {},
   "outputs": [],
   "source": [
    "#--------------------------\n",
    "# 2. Scrape the web\n",
    "#--------------------------\n",
    "\n",
    "driver = webdriver.Chrome()\n",
    "driver.maximize_window()\n",
    "\n",
    "jobs = {\n",
    "    \"roles\": [],\n",
    "    \"companies\": [],\n",
    "    \"locations\": [],\n",
    "    \"experience\": [],\n",
    "    \"skills\": []\n",
    "}\n",
    "\n",
    "for i in range(50):\n",
    "    driver.get(f\"https://www.naukri.com/data-scientist-jobs-{i}\")\n",
    "\n",
    "    WebDriverWait(driver, 10).until(\n",
    "        EC.presence_of_element_located((By.CSS_SELECTOR, \"div.cust-job-tuple\"))\n",
    "    )\n",
    "\n",
    "    job_cards = driver.find_elements(By.CSS_SELECTOR, \"div.cust-job-tuple\")\n",
    "\n",
    "    for job in job_cards:\n",
    "        try:\n",
    "            role = job.find_element(By.CSS_SELECTOR, \"a.title\").text.strip()\n",
    "        except:\n",
    "            role = \"\"\n",
    "        try:\n",
    "            company = job.find_element(By.CSS_SELECTOR, \"a.comp-name\").text.strip()\n",
    "        except:\n",
    "            company = \"\"\n",
    "        try:\n",
    "            exp = job.find_element(By.CSS_SELECTOR, \"span.exp span.expwdth\").text.strip()\n",
    "        except:\n",
    "            exp = \"\"\n",
    "        try:\n",
    "            location = job.find_element(By.CSS_SELECTOR, \"span.loc span.locWdth\").text.strip()\n",
    "        except:\n",
    "            location = \"\"\n",
    "        try:\n",
    "             # finds all <li> elements inside a <ul> with the class tags-gt, within a specific job HTML element.\n",
    "            # The result is a list of WebElement objects (each representing a skill tag).\n",
    "            skills_list = job.find_elements(By.CSS_SELECTOR, \"ul.tags-gt li\")\n",
    "\n",
    "            # Loops over to extract each elements, then strips whitespaces,\n",
    "            # then joins all skills into a single string, separated by commas.\n",
    "            skills = ', '.join([s.text.strip() for s in skills_list])\n",
    "        except:\n",
    "            skills = \"\"\n",
    "\n",
    "        jobs[\"roles\"].append(role)\n",
    "        jobs[\"companies\"].append(company)\n",
    "        jobs[\"locations\"].append(location)\n",
    "        jobs[\"experience\"].append(exp)\n",
    "        jobs[\"skills\"].append(skills)"
   ]
  },
  {
   "cell_type": "code",
   "execution_count": 7,
   "id": "e65fe8f2-6ca2-471d-8035-6fd909a44397",
   "metadata": {},
   "outputs": [],
   "source": [
    "DS_jobs_df = pd.DataFrame(jobs)\n",
    "DS_jobs_df.to_csv(\"DataScience_jobs.csv\")"
   ]
  },
  {
   "cell_type": "markdown",
   "id": "b1ce6e12-50be-4af9-9c91-77c1ffd7a17b",
   "metadata": {},
   "source": [
    "### The scraped data will be saved in the current project directory as \"DataScience_jobs.csv\"."
   ]
  },
  {
   "cell_type": "code",
   "execution_count": null,
   "id": "ec1186e3-4492-4783-810c-408d4623b409",
   "metadata": {},
   "outputs": [],
   "source": []
  }
 ],
 "metadata": {
  "kernelspec": {
   "display_name": "myenv",
   "language": "python",
   "name": "python3"
  },
  "language_info": {
   "codemirror_mode": {
    "name": "ipython",
    "version": 3
   },
   "file_extension": ".py",
   "mimetype": "text/x-python",
   "name": "python",
   "nbconvert_exporter": "python",
   "pygments_lexer": "ipython3",
   "version": "3.12.7"
  }
 },
 "nbformat": 4,
 "nbformat_minor": 5
}
